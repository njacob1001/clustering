{
  "cells": [
    {
      "cell_type": "code",
      "execution_count": 4,
      "metadata": {
        "id": "Lrr6xlGPlGDz",
        "outputId": "aee3e551-49af-424a-dd08-aacd4674ca88",
        "colab": {
          "base_uri": "https://localhost:8080/"
        }
      },
      "outputs": [
        {
          "output_type": "stream",
          "name": "stdout",
          "text": [
            "/content\n",
            "Repositorio ya clonado en /content/clustering\n",
            "/content/clustering\n"
          ]
        }
      ],
      "source": [
        "import os\n",
        "\n",
        "%cd /content\n",
        "\n",
        "project_folder = 'clustering'\n",
        "repo_url = 'https://github.com/njacob1001/clustering.git'\n",
        "\n",
        "if not os.path.exists(project_folder):\n",
        "    print(f\"Clonando el repositorio desde {repo_url}...\")\n",
        "    !git clone {repo_url}\n",
        "else:\n",
        "    print(f\"Repositorio ya clonado en /content/{project_folder}\")\n",
        "\n",
        "%cd {project_folder}\n"
      ]
    },
    {
      "cell_type": "code",
      "source": [
        "import os\n",
        "import pandas as pd\n",
        "\n",
        "src_dir = os.path.join(os.getcwd(), 'data')\n",
        "df = pd.read_csv(os.path.join(src_dir, 'creditcard.csv'))\n",
        "df.head()"
      ],
      "metadata": {
        "id": "i8Eh4UQNlG7r"
      },
      "execution_count": null,
      "outputs": []
    }
  ],
  "metadata": {
    "kernelspec": {
      "display_name": "Python 3",
      "language": "python",
      "name": "python3"
    },
    "language_info": {
      "name": "python",
      "version": "3.12.3"
    },
    "colab": {
      "provenance": []
    }
  },
  "nbformat": 4,
  "nbformat_minor": 0
}