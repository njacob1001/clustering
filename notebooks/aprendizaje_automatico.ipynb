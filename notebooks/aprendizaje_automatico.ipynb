{
 "cells": [
  {
   "cell_type": "code",
   "execution_count": null,
   "metadata": {},
   "outputs": [],
   "source": [
    "import os\n",
    "\n",
    "%cd /content\n",
    "\n",
    "project_folder = 'etl-project'\n",
    "repo_url = 'https://github.com/njacob1001/etl-project.git'\n",
    "\n",
    "if not os.path.exists(project_folder):\n",
    "    print(f\"Clonando el repositorio desde {repo_url}...\")\n",
    "    !git clone {repo_url}\n",
    "else:\n",
    "    print(f\"Repositorio ya clonado en /content/{project_folder}\")\n",
    "\n",
    "%cd {project_folder}\n"
   ]
  }
 ],
 "metadata": {
  "kernelspec": {
   "display_name": "Python 3",
   "language": "python",
   "name": "python3"
  },
  "language_info": {
   "name": "python",
   "version": "3.12.3"
  }
 },
 "nbformat": 4,
 "nbformat_minor": 2
}
